{
 "cells": [
  {
   "cell_type": "code",
   "execution_count": 1,
   "id": "0f2529af-e44d-4d70-a93a-d3a589d42d68",
   "metadata": {},
   "outputs": [],
   "source": [
    "# Few-Shot Intent Detection via Contrastive Pre-Training and Fine-Tuning\n",
    "# https://github.com/jianguoz/Few-Shot-Intent-Detection"
   ]
  },
  {
   "cell_type": "code",
   "execution_count": 82,
   "id": "c417745d-a746-44a2-ab5b-10ef0ae9274b",
   "metadata": {},
   "outputs": [
    {
     "name": "stdout",
     "output_type": "stream",
     "text": [
      "Datasets  README.md\n"
     ]
    }
   ],
   "source": [
    "!ls ../../dataset/Few-Shot-Intent-Detection/"
   ]
  },
  {
   "cell_type": "code",
   "execution_count": 2,
   "id": "ebed3b76-3164-4276-b9eb-f1b8c758a053",
   "metadata": {},
   "outputs": [],
   "source": [
    "# h - representation of u\n",
    "# h = BERT(u) -> we use bert-base-uncase"
   ]
  },
  {
   "cell_type": "code",
   "execution_count": 37,
   "id": "57578c42-10c1-4187-bc41-007d70b3ed49",
   "metadata": {},
   "outputs": [],
   "source": [
    "import torch\n",
    "from pytorch_pretrained_bert import BertTokenizer, BertModel, BertForMaskedLM\n",
    "import numpy as np"
   ]
  },
  {
   "cell_type": "markdown",
   "id": "45ea7425-c147-468c-b38f-4639e52d1789",
   "metadata": {
    "tags": []
   },
   "source": [
    "## Load Pretrain model from vocabuary"
   ]
  },
  {
   "cell_type": "code",
   "execution_count": 4,
   "id": "51d2517a-c1b0-420a-86ca-09ab3120a9f7",
   "metadata": {},
   "outputs": [],
   "source": [
    "tokenizer = BertTokenizer.from_pretrained('bert-base-uncased')"
   ]
  },
  {
   "cell_type": "code",
   "execution_count": 24,
   "id": "c17b4852-25c6-461d-9271-94223363833c",
   "metadata": {},
   "outputs": [],
   "source": [
    "# Tokenize input \n",
    "text = \"who was Elon musk ? Elon musk was an entrepreneur and business magnate\"\n",
    "tokenized_text = tokenizer.tokenize(text)"
   ]
  },
  {
   "cell_type": "code",
   "execution_count": 25,
   "id": "9330c8fd-1c14-4268-b917-31b652e627e7",
   "metadata": {},
   "outputs": [],
   "source": [
    "# Mask a token that we will try to predict with MLM\n",
    "masked_index = 7\n",
    "tokenized_text[masked_index] = '[MASK]'\n",
    "#assert tokenized_text == [who was Elon musk ? Elon musk was an entrepreneur 'and','business','magnate']"
   ]
  },
  {
   "cell_type": "code",
   "execution_count": 26,
   "id": "1220adb3-a5fb-4c85-a135-d285dfacfc61",
   "metadata": {},
   "outputs": [
    {
     "name": "stdout",
     "output_type": "stream",
     "text": [
      "17\n"
     ]
    },
    {
     "data": {
      "text/plain": [
       "['who',\n",
       " 'was',\n",
       " 'el',\n",
       " '##on',\n",
       " 'mu',\n",
       " '##sk',\n",
       " '?',\n",
       " '[MASK]',\n",
       " '##on',\n",
       " 'mu',\n",
       " '##sk',\n",
       " 'was',\n",
       " 'an',\n",
       " 'entrepreneur',\n",
       " 'and',\n",
       " 'business',\n",
       " 'magnate']"
      ]
     },
     "execution_count": 26,
     "metadata": {},
     "output_type": "execute_result"
    }
   ],
   "source": [
    "print(len(tokenized_text))\n",
    "tokenized_text"
   ]
  },
  {
   "cell_type": "code",
   "execution_count": 27,
   "id": "436f5386-6a4f-4884-9f62-62a8b42ef61d",
   "metadata": {},
   "outputs": [],
   "source": [
    "# Convert token to vocabulary indices\n",
    "indexed_tokens = tokenizer.convert_tokens_to_ids(tokenized_text)\n",
    "# Define sentence A and B indices associated to 1st and 2nd \n",
    "segments_ids = [0, 0, 0, 0, 0, 0, 0, 1, 1, 1, 1, 1, 1, 1, 1, 1, 1]\n",
    "# Convert inputs to PyTorch tensors\n",
    "tokens_tensor = torch.tensor([indexed_tokens])\n",
    "segments_tensors = torch.tensor([segments_ids])"
   ]
  },
  {
   "cell_type": "markdown",
   "id": "09447ce1-bef6-4dc9-80f2-513787ffff3c",
   "metadata": {},
   "source": [
    "## Load weight Pretrain model"
   ]
  },
  {
   "cell_type": "code",
   "execution_count": 28,
   "id": "43a4a138-5df4-49c1-8c42-b528fb0c943a",
   "metadata": {},
   "outputs": [
    {
     "name": "stdout",
     "output_type": "stream",
     "text": [
      "eval done\n"
     ]
    }
   ],
   "source": [
    "model = BertModel.from_pretrained('bert-base-uncased')\n",
    "model.eval()\n",
    "print(\"eval done\")"
   ]
  },
  {
   "cell_type": "code",
   "execution_count": 29,
   "id": "8ce267f1-0e3c-47c3-8156-519f55445d06",
   "metadata": {},
   "outputs": [],
   "source": [
    "# Predict hidden states features for each layer\n",
    "encoded_layers, _ = model(tokens_tensor, segments_tensors)"
   ]
  },
  {
   "cell_type": "code",
   "execution_count": 30,
   "id": "ba38990a-06d7-4235-afb2-0d9d58efe3f9",
   "metadata": {},
   "outputs": [],
   "source": [
    "# We have a hidden states for each of the 12 layers in model bert-base-uncased\n",
    "assert len(encoded_layers) == 12"
   ]
  },
  {
   "cell_type": "code",
   "execution_count": 31,
   "id": "b8bfb2ee-fbb6-4b99-b8c0-a553680b5182",
   "metadata": {},
   "outputs": [],
   "source": [
    "# Load pre-trained model (weights)\n",
    "model = BertForMaskedLM.from_pretrained('bert-base-uncased')\n",
    "model.eval()\n",
    "\n",
    "# Predict all tokens\n",
    "predictions = model(tokens_tensor, segments_tensors)\n",
    "\n",
    "# confirm we were able to predict 'henson'\n",
    "predicted_index = torch.argmax(predictions[0, masked_index]).item()\n",
    "predicted_token = tokenizer.convert_ids_to_tokens([predicted_index])\n",
    "#assert predicted_token == 'musk'"
   ]
  },
  {
   "cell_type": "code",
   "execution_count": 32,
   "id": "1f340a30-6bd8-4e09-97d6-e92f438451bf",
   "metadata": {},
   "outputs": [
    {
     "data": {
      "text/plain": [
       "['el']"
      ]
     },
     "execution_count": 32,
     "metadata": {},
     "output_type": "execute_result"
    }
   ],
   "source": [
    "predicted_token"
   ]
  },
  {
   "cell_type": "markdown",
   "id": "c8a25429-437e-4830-becf-323dd7e38d31",
   "metadata": {},
   "source": [
    "## Config"
   ]
  },
  {
   "cell_type": "code",
   "execution_count": 44,
   "id": "3cf7a996-0ae8-4e59-bc5b-5470a28c9802",
   "metadata": {},
   "outputs": [],
   "source": [
    "N = 10 #None\n",
    "temperature = 0.5  #None"
   ]
  },
  {
   "cell_type": "code",
   "execution_count": 45,
   "id": "2ac47bcf-7511-4611-888e-70682e5aa904",
   "metadata": {},
   "outputs": [],
   "source": [
    "def sim(u,v):\n",
    "    magnitude_u = np.sqrt(np.sum(np.power(u,2)))\n",
    "    magnitude_v = np.sqrt(np.sum(np.power(v,2)))\n",
    "    \n",
    "    return (u.T @ v) / (magnitude_u * magnitude_v)"
   ]
  },
  {
   "cell_type": "code",
   "execution_count": 73,
   "id": "36c4be35-757b-4a67-8711-401d5c7e9c6d",
   "metadata": {},
   "outputs": [],
   "source": [
    "def self_supervised_cl(h,h_p):\n",
    "    # ToDo\n",
    "    # dont forget to add index of top_cl variable\n",
    "    top_cl = np.exp(sim(h,h_p)/temperature)\n",
    "    print(top_cl)\n",
    "    bottom_cl = np.sum(np.exp(sim(h,h_p)/temperature))\n",
    "    print(bottom_cl)\n",
    "    self_cl_loss = - (1/ N) * np.sum(top_cl/bottom_cl)\n",
    "    \n",
    "    return self_cl_loss"
   ]
  },
  {
   "cell_type": "code",
   "execution_count": 74,
   "id": "1464c4e6-2aa4-439f-97fb-cb83aeb744f5",
   "metadata": {},
   "outputs": [],
   "source": [
    "a = np.random.rand(3,2)\n",
    "b = np.random.rand(3,2)"
   ]
  },
  {
   "cell_type": "code",
   "execution_count": 75,
   "id": "6c87e426-08d2-430e-b292-2f42482dde42",
   "metadata": {},
   "outputs": [
    {
     "data": {
      "text/plain": [
       "((3, 2), (3, 2))"
      ]
     },
     "execution_count": 75,
     "metadata": {},
     "output_type": "execute_result"
    }
   ],
   "source": [
    "a.shape , b.shape"
   ]
  },
  {
   "cell_type": "code",
   "execution_count": 76,
   "id": "96b19de9-13c9-44be-bc20-d2eb02607daa",
   "metadata": {},
   "outputs": [
    {
     "name": "stdout",
     "output_type": "stream",
     "text": [
      "[[1.92643996 1.70838819]\n",
      " [3.35620428 2.74840212]]\n",
      "9.7394345458278\n"
     ]
    },
    {
     "data": {
      "text/plain": [
       "-0.1"
      ]
     },
     "execution_count": 76,
     "metadata": {},
     "output_type": "execute_result"
    }
   ],
   "source": [
    "self_supervised_cl(a,b)"
   ]
  },
  {
   "cell_type": "code",
   "execution_count": null,
   "id": "fe1e0bca-d5a3-4d9c-a586-5051b12097b2",
   "metadata": {},
   "outputs": [],
   "source": [
    "predicted_token"
   ]
  },
  {
   "cell_type": "code",
   "execution_count": null,
   "id": "ca1d0a2b-4af5-4d14-9750-d864a8d954a2",
   "metadata": {},
   "outputs": [],
   "source": []
  }
 ],
 "metadata": {
  "kernelspec": {
   "display_name": "Python 3",
   "language": "python",
   "name": "python3"
  },
  "language_info": {
   "codemirror_mode": {
    "name": "ipython",
    "version": 3
   },
   "file_extension": ".py",
   "mimetype": "text/x-python",
   "name": "python",
   "nbconvert_exporter": "python",
   "pygments_lexer": "ipython3",
   "version": "3.8.10"
  }
 },
 "nbformat": 4,
 "nbformat_minor": 5
}
